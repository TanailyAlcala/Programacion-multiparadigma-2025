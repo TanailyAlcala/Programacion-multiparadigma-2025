{
 "cells": [
  {
   "cell_type": "code",
   "execution_count": null,
   "id": "b9b68ae6",
   "metadata": {
    "vscode": {
     "languageId": "plaintext"
    }
   },
   "outputs": [],
   "source": [
    "print(\"Hola, este es mi primer programa en Python\")"
   ]
  },
  {
   "cell_type": "code",
   "execution_count": null,
   "id": "53668a2d",
   "metadata": {
    "vscode": {
     "languageId": "plaintext"
    }
   },
   "outputs": [],
   "source": [
    "nombre = input(\"Escribe tu nombre: \")\n",
    "edad = input(\"Escribe tu edad: \")\n",
    "print(f\"Hola {nombre}, tienes {edad} años\")\n"
   ]
  }
 ],
 "metadata": {
  "language_info": {
   "name": "python"
  }
 },
 "nbformat": 4,
 "nbformat_minor": 5
}
